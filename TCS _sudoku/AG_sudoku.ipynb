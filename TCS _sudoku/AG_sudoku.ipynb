{
 "cells": [
  {
   "cell_type": "markdown",
   "id": "85684a5b-1642-478f-aa31-8bde72f347c1",
   "metadata": {},
   "source": [
    "# TCS - Sudoku com algoritmos genéticos"
   ]
  },
  {
   "cell_type": "markdown",
   "id": "5fc0b4aa-dcb3-42f7-9924-66ed51936c03",
   "metadata": {},
   "source": [
    "## Introdução do Problema"
   ]
  },
  {
   "cell_type": "markdown",
   "id": "ee1f791b-2456-43bb-af3c-b107ea358378",
   "metadata": {},
   "source": [
    "## Objetivo"
   ]
  },
  {
   "cell_type": "code",
   "execution_count": null,
   "id": "ede57f7d-92a4-4efb-9b65-8f26fd2f830a",
   "metadata": {},
   "outputs": [],
   "source": []
  }
 ],
 "metadata": {
  "kernelspec": {
   "display_name": "ilumpy",
   "language": "python",
   "name": "ilumpy"
  },
  "language_info": {
   "codemirror_mode": {
    "name": "ipython",
    "version": 3
   },
   "file_extension": ".py",
   "mimetype": "text/x-python",
   "name": "python",
   "nbconvert_exporter": "python",
   "pygments_lexer": "ipython3",
   "version": "3.9.7"
  }
 },
 "nbformat": 4,
 "nbformat_minor": 5
}
