{
 "cells": [
  {
   "cell_type": "markdown",
   "id": "06b0f5a9-4c97-494a-b671-8e3997e1a123",
   "metadata": {},
   "source": [
    "FUNCOES PARA O PROBLEMA DE \"SENHA DE TAMANHO VARIÁVEL\""
   ]
  },
  {
   "cell_type": "code",
   "execution_count": null,
   "id": "f86a6ac1-458b-40ae-83ff-11f7715e8a24",
   "metadata": {},
   "outputs": [],
   "source": [
    "# O que eu preciso\n",
    "\n",
    "definir a função da resolução da equação\n",
    "    achar o mínimo global\n",
    "    distancia entre: chute --> mínimo glob\n",
    "    \n",
    "gerar individuos (valores x.y)\n",
    "\n",
    "\n"
   ]
  },
  {
   "cell_type": "code",
   "execution_count": 4,
   "id": "71a01a6a-1f84-45cd-bab9-78f633058c50",
   "metadata": {},
   "outputs": [
    {
     "name": "stdout",
     "output_type": "stream",
     "text": [
      "Minimum value: 0.0000\n",
      "Minimum point: (3.0000, 2.0000)\n"
     ]
    }
   ],
   "source": [
    "#chat gpt para encontrar o mpinimo global da função\n",
    "# --> ordem dada no gpt \"me de um código de python que encontre o mínimo global da função de Himmelblau\"\n",
    "\n",
    "import numpy as np\n",
    "from scipy.optimize import minimize\n",
    "\n",
    "def himmelblau(x):\n",
    "    return (x[0]**2 + x[1] - 11)**2 + (x[0] + x[1]**2 - 7)**2\n",
    "\n",
    "initial_guess = [0, 0]\n",
    "result = minimize(himmelblau, initial_guess, method='BFGS')\n",
    "\n",
    "print('Minimum value: {:.4f}'.format(result.fun))\n",
    "print('Minimum point: ({:.4f}, {:.4f})'.format(result.x[0], result.x[1]))\n"
   ]
  },
  {
   "cell_type": "code",
   "execution_count": null,
   "id": "f769ace0-2d48-474d-ba79-78d214b2645f",
   "metadata": {},
   "outputs": [],
   "source": [
    "def genes_hbl(valor_max_hbl):\n",
    "    '''\n",
    "    gerar valores tanto para x, quanto para y \n",
    "    '''\n",
    "    gene = random.randint(0, valor_max_hbl)\n",
    "    return gene\n",
    "\n",
    "def individuo_hbl(n_genes, valor_max_hbl):\n",
    "    '''\n",
    "    criar um individuo (lista) com os valores gerados.\n",
    "    '''\n",
    "    individuo = []\n",
    "    for i in range(n):\n",
    "        gene = gene_hbl(valor_max_hbl)\n",
    "        individuo.append(gene)\n",
    "    return individuo\n",
    "\n",
    "def população_chutes_hbl(tamanho, n)\n",
    "    \n",
    "    \n",
    "def fitness_hbl (chute, minimo_global):\n",
    "    '''\n",
    "    vejo a distância entre  meu chute(indiv) e o objetivo\n",
    "    '''\n",
    "def "
   ]
  }
 ],
 "metadata": {
  "kernelspec": {
   "display_name": "ilumpy",
   "language": "python",
   "name": "ilumpy"
  },
  "language_info": {
   "codemirror_mode": {
    "name": "ipython",
    "version": 3
   },
   "file_extension": ".py",
   "mimetype": "text/x-python",
   "name": "python",
   "nbconvert_exporter": "python",
   "pygments_lexer": "ipython3",
   "version": "3.9.7"
  }
 },
 "nbformat": 4,
 "nbformat_minor": 5
}
