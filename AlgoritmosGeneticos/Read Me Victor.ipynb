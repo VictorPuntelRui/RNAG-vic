{
 "cells": [
  {
   "cell_type": "markdown",
   "id": "70c3b4f4-5914-4051-96ee-02149124dccd",
   "metadata": {},
   "source": [
    "# Bloco de Anotações - RNAG - Aulas"
   ]
  },
  {
   "cell_type": "markdown",
   "id": "1382693d-cdee-4cb1-9c5c-6dc46fd43527",
   "metadata": {},
   "source": [
    "### Aula 08/03/2023"
   ]
  },
  {
   "cell_type": "markdown",
   "id": "d0c29852-5b53-45b7-a9f7-5eb95b1fd11b",
   "metadata": {},
   "source": [
    "Experimento A.01 - Busca Aleatória :\n",
    "\n",
    "     Vimos que \n",
    "    \n",
    "\n",
    "Experimento A.02 - Busca em Grade :\n",
    "\n",
    "    Chance garantida de encontrar"
   ]
  },
  {
   "cell_type": "markdown",
   "id": "4661549b-6f1f-4a62-b094-63d949729e85",
   "metadata": {},
   "source": [
    "### Aula 16/03/2023"
   ]
  },
  {
   "cell_type": "markdown",
   "id": "5c626837-723d-4f01-ba33-0968c6fc791c",
   "metadata": {},
   "source": [
    "3 Etapas para resolver (ou criar os códigos) de algotítmos genpeticos\n",
    "\n",
    "- Etapa Variançia/Variabilidade\n",
    "- Etapa de Seleção\n",
    "- Etapa de Herânca\n",
    "\n",
    "~## Etapas no Experimento A03 - Algoritmos Genéticos ~##\n",
    "\n",
    "- Criação da população inicial (aleatória)\n",
    "\n",
    "- Cálculo da função objetivo para todos os membros da população inicial e atualização do hall da fama\n",
    "\n",
    "- Seleção dos indivíduos (quais seguem pra próxima geração)\n",
    "\n",
    "- Cruzamento dos indivíduos selecionados (troca de material genético)\n",
    "\n",
    "- Mutação dos indivíduos da população recém-criada (possibilidade de trazer informação nova ao sistema)\n",
    "\n",
    "- Cálculo da função objetivo para todos os membros da população recém-criada e atualização do hall da fama\n",
    "\n",
    "- Checar os critérios de parada. Caso os critérios não tenham sido atendidos, retornar ao passo 3\n",
    "\n",
    "- Retornar para o usuário o hall da fama"
   ]
  },
  {
   "cell_type": "markdown",
   "id": "da790835-7d72-43b1-9f97-6f3837c550d6",
   "metadata": {},
   "source": [
    "Geração de indivíduos -> seleciona os melhores -> Cruzamento -> início\n",
    "\n",
    "geralmente rodamos N gerações para estabelecer um critério de parada e a partir dele ajusar de acordo com a necessidade do seu código."
   ]
  },
  {
   "cell_type": "markdown",
   "id": "29208303-7f84-4185-ae60-1191eb690a46",
   "metadata": {},
   "source": [
    "### Aula 3 - 23/03/23 (jambas)"
   ]
  },
  {
   "cell_type": "markdown",
   "id": "90269fbf-e752-495b-a12e-f50125895a61",
   "metadata": {},
   "source": [
    "Problema das caixas não-binárias. Valores do gene variando de 0 a 100\n",
    "\n",
    "Vamos alterar as funções de: <df>\n",
    "+ Gene\n",
    "+ Indivíduo\n",
    "+ População\n",
    "+ Objetivo\n",
    "+ Fitness - Obj\n",
    "+ Mutação"
   ]
  },
  {
   "cell_type": "code",
   "execution_count": null,
   "id": "62d540d4-6603-4c54-8f02-71cb25fe931b",
   "metadata": {},
   "outputs": [],
   "source": []
  }
 ],
 "metadata": {
  "kernelspec": {
   "display_name": "Python 3 (ipykernel)",
   "language": "python",
   "name": "python3"
  },
  "language_info": {
   "codemirror_mode": {
    "name": "ipython",
    "version": 3
   },
   "file_extension": ".py",
   "mimetype": "text/x-python",
   "name": "python",
   "nbconvert_exporter": "python",
   "pygments_lexer": "ipython3",
   "version": "3.9.7"
  }
 },
 "nbformat": 4,
 "nbformat_minor": 5
}
