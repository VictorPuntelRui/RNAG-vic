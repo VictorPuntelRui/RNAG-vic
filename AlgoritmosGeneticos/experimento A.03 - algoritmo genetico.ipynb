{
 "cells": [
  {
   "cell_type": "markdown",
   "metadata": {},
   "source": [
    "Algoritmo genético\n",
    "==================\n",
    "\n"
   ]
  },
  {
   "cell_type": "markdown",
   "metadata": {},
   "source": [
    "## Introdução\n",
    "\n"
   ]
  },
  {
   "cell_type": "markdown",
   "metadata": {},
   "source": [
    "`Algoritmos genéticos` são algoritmos inspirados na teoria da evolução de Darwin e são ferramentas poderosas para resolver problemas de otimização. De maneira simples, a estratégia consiste em gerar uma população inicial aleatória e através de seleção, cruzamento e mutação sucessivas, gerar populações seguintes. Se feito de maneira correta, as populações seguintes tendem a ser melhores candidatos para a solução do problema do que as populações anteriores.\n",
    "\n",
    "Um algoritmo genético pode parecer um tanto complexo, porém é possível dividi-lo em partes relativamente simples:\n",
    "\n",
    "1.  Criação da população inicial (aleatória)\n",
    "\n",
    "2.  Cálculo da função objetivo para todos os membros da população inicial e atualização do hall da fama\n",
    "\n",
    "3.  Seleção dos indivíduos (quais seguem pra próxima geração)\n",
    "\n",
    "4.  Cruzamento dos indivíduos selecionados (troca de material genético)\n",
    "\n",
    "5.  Mutação dos indivíduos da população recém-criada (possibilidade de trazer informação nova ao sistema)\n",
    "\n",
    "6.  Cálculo da função objetivo para todos os membros da população recém-criada e atualização do hall da fama\n",
    "\n",
    "7.  Checar os critérios de parada. Caso os critérios não tenham sido atendidos, retornar ao passo 3\n",
    "\n",
    "8.  Retornar para o usuário o hall da fama\n",
    "\n"
   ]
  },
  {
   "cell_type": "markdown",
   "metadata": {},
   "source": [
    "## Glossário\n",
    "\n"
   ]
  },
  {
   "cell_type": "markdown",
   "metadata": {},
   "source": [
    "-   `Indivíduo`: um candidato para a solução do problema\n",
    "\n",
    "-   `População`: um conjunto de candidatos para a solução do problema\n",
    "\n",
    "-   `Gene`: um parâmetro que pertence a um indivíduo\n",
    "\n",
    "-   `Cromossomo` ou `genótipo`: um conjunto de genes\n",
    "\n",
    "-   `Geração`: cada população em uma busca genética faz parte de uma geração. A primeira geração é geralmente formada por indivíduos aleatórios (sorteados dentro do espaço de busca). As gerações seguintes são formadas por seleção, cruzamento e mutação da geração anterior. Um dos critérios de parada possíveis para um algoritmo genético é o número máximo de gerações\n",
    "\n",
    "-   `Função de aptidão` ou `função objetivo` ou `função fitness`: uma função que recebe um indivíduo e retorna o seu valor de aptidão. Em um problema de otimização, nós buscamos encontrar soluções que minimizam ou maximizam o valor de aptidão\n",
    "\n",
    "-   `Seleção`: processo onde utilizamos o valor de aptidão dos indivíduos para selecionar quais irão passar seus genes para a geração seguinte\n",
    "\n",
    "-   `Cruzamento`: processo onde o material genético de indivíduos selecionados é misturado\n",
    "\n",
    "-   `Mutação`: processo onde os genes dos indivíduos selecionados têm uma chance de alterar seu valor. A mutação é o único processo capaz de introduzir informação nova ao pool genético após o sorteio aleatório da primeira geração\n",
    "\n",
    "-   `Hall da fama`: conjunto dos $n$ indivíduos que obtiveram os melhores valores de aptidão durante o processo de busca\n",
    "\n"
   ]
  },
  {
   "cell_type": "markdown",
   "metadata": {},
   "source": [
    "## Reflexões\n",
    "\n"
   ]
  },
  {
   "cell_type": "markdown",
   "metadata": {},
   "source": [
    "Você diria que o algoritmo genético é determinístico ou probabilístico?\n",
    "\n",
    "Será que um algoritmo genético é capaz de encontrar mínimos (ou máximos) da função objetivo?\n",
    "\n",
    "O que será que acontece quando não realizamos a etapa de mutação do algoritmo genético?\n",
    "\n",
    "O que será que acontece quando usamos uma chance de mutação muito alta?\n",
    "\n"
   ]
  },
  {
   "cell_type": "markdown",
   "metadata": {},
   "source": [
    "## Objetivo\n",
    "\n"
   ]
  },
  {
   "cell_type": "markdown",
   "metadata": {},
   "source": [
    "Encontrar uma solução para o problema das caixas binárias usando o algoritmo genético. Considere 4 caixas.\n",
    "\n"
   ]
  },
  {
   "cell_type": "markdown",
   "metadata": {},
   "source": [
    "## Descrição do problema\n",
    "\n"
   ]
  },
  {
   "cell_type": "markdown",
   "metadata": {},
   "source": [
    "O problema das caixas binárias é simples: nós temos um certo número de caixas e cada uma pode conter um valor do conjunto $\\{0, 1\\}$. O objetivo é encontrar uma combinação de caixas onde a soma dos valores contidos dentro delas é máximo.\n",
    "\n"
   ]
  },
  {
   "cell_type": "markdown",
   "metadata": {},
   "source": [
    "## Importações\n",
    "\n"
   ]
  },
  {
   "cell_type": "code",
   "execution_count": 1,
   "metadata": {},
   "outputs": [],
   "source": [
    "import random\n",
    "from funcoes import populacao_cb as cria_populacao_inicial\n",
    "from funcoes import funcao_objetivo_pop_cb as funcao_objetivo_pop\n",
    "from funcoes import selecao_roleta_max as funcao_selecao\n",
    "from funcoes import cruzamento_ponto_simples as funcao_cruzamento\n",
    "from funcoes import mutacao_cb as funcao_mutacao"
   ]
  },
  {
   "cell_type": "markdown",
   "metadata": {},
   "source": [
    "## Códigos e discussão\n",
    "\n"
   ]
  },
  {
   "cell_type": "code",
   "execution_count": 5,
   "metadata": {},
   "outputs": [],
   "source": [
    "# CONSTANTES\n",
    "\n",
    "TAMANHO_POP = 6\n",
    "NUM_GENES = 4\n",
    "NUM_GERACOES = 10\n",
    "CHANCE_CRUZAMENTO = 0.5\n",
    "CHANCE_MUTACAO = 0.05"
   ]
  },
  {
   "cell_type": "code",
   "execution_count": 6,
   "metadata": {
    "tags": []
   },
   "outputs": [
    {
     "name": "stdout",
     "output_type": "stream",
     "text": [
      "[[1, 0, 0, 0], [1, 1, 1, 0], [0, 0, 1, 1], [0, 0, 1, 0], [0, 1, 0, 0], [0, 0, 0, 1]]\n",
      "\n",
      "[1, 1, 1, 0] [1, 1, 1, 0]\n",
      "\n",
      "\n",
      "[0, 0, 1, 1] [0, 0, 1, 1]\n",
      "\n",
      "\n",
      "[0, 0, 0, 0] [0, 0, 0, 0]\n",
      "\n",
      "\n",
      "[1, 1, 0, 0] [1, 1, 0, 0]\n",
      "\n",
      "\n",
      "[0, 0, 1, 1] [0, 0, 1, 1]\n",
      "\n",
      "\n",
      "[0, 0, 1, 0] [0, 0, 1, 0]\n",
      "\n",
      "\n",
      "[1, 1, 1, 0] [1, 1, 1, 0]\n",
      "\n",
      "\n",
      "[1, 0, 1, 0] [1, 0, 1, 0]\n",
      "\n",
      "\n",
      "[1, 1, 1, 0] [1, 1, 1, 0]\n",
      "\n",
      "\n",
      "População final:\n",
      "[[1, 1, 1, 1], [1, 1, 1, 0], [1, 0, 1, 0], [1, 1, 1, 0], [0, 1, 1, 1], [0, 1, 1, 1]]\n"
     ]
    }
   ],
   "source": [
    "populacao = cria_populacao_inicial(TAMANHO_POP, NUM_GENES)\n",
    "\n",
    "print(populacao)\n",
    "\n",
    "for _ in range (NUM_GERACOES):\n",
    "    fitness = funcao_objetivo_pop(populacao)\n",
    "    populacao = funcao_selecao(populacao, fitness)\n",
    "    \n",
    "    pais = populacao[0::2]\n",
    "    maes = populacao [1::2]\n",
    "    contador = 0 \n",
    "    for pai, mae in zip(pais,maes):\n",
    "        if random.random() <= CHANCE_CRUZAMENTO:\n",
    "            # ocorre cruzamento XD\n",
    "            filho1, filho2 = funcao_cruzamento(pai, mae)\n",
    "            populacao[contador]=filho1\n",
    "            populacao[contador+1]=filho2\n",
    "            \n",
    "        contador = contador + 2\n",
    "\n",
    "        for n in range (len(populacao)):\n",
    "            if random.random() <= CHANCE_MUTACAO:\n",
    "                individuo = populacao[n]\n",
    "                populacao[n] = funcao_mutacao(individuo)\n",
    "                print()\n",
    "                print(individuo, populacao[n])\n",
    "                print()\n",
    "print ()\n",
    "print (\"População final:\")\n",
    "print (populacao)\n"
   ]
  },
  {
   "cell_type": "markdown",
   "metadata": {},
   "source": [
    "## Conclusão\n",
    "\n",
    "Os algoritmos genéticos apresentam várias variáveis que auxiliam no processo de encontrar o melhor \"gene\" ou melhor \"indíviduo\" para o problema em questão, ou melhor, mais adaptado.\n",
    "\n",
    "Neste notebook, realizamos o exercício 03 onde foi inserido o conceito de cruzamento entre genes, misturando assim os melhores, com o intuito de preservar suas características e passar o seu material genético para a próxima geração, assim utilizando a estatística e variabilidade ao nosso favor.<dt>\n",
    "Concluímos que o nosso algorítmo teve um rendimento bom e funcional, conseguindo mesclar e selecionar os indiviuos que apresentavam os melhores genes."
   ]
  },
  {
   "cell_type": "markdown",
   "metadata": {},
   "source": [
    "## Playground\n",
    "\n"
   ]
  },
  {
   "cell_type": "markdown",
   "metadata": {},
   "source": [
    "Teste com Chat GPT : \n",
    "\n",
    "\"give-me a python code that get the higher value of a binarie sistem 1 and 0 in 4 boxes. Use the method of genethic algorithim\" "
   ]
  },
  {
   "cell_type": "code",
   "execution_count": 8,
   "metadata": {},
   "outputs": [
    {
     "name": "stdout",
     "output_type": "stream",
     "text": [
      "The highest value of a binary system with 4 digits is: 1111 = 15\n"
     ]
    }
   ],
   "source": [
    "import random\n",
    "\n",
    "# define the fitness function\n",
    "def fitness(individual):\n",
    "    return int(individual, 2)\n",
    "\n",
    "# define the genetic algorithm\n",
    "def genetic_algorithm(population_size, fitness_fn, mutation_rate=0.01, generations=100):\n",
    "    # generate an initial population of random individuals\n",
    "    population = [bin(random.randint(0, 15))[2:].zfill(4) for i in range(population_size)]\n",
    "\n",
    "    for i in range(generations):\n",
    "        # evaluate the fitness of each individual in the population\n",
    "        fitness_scores = [fitness_fn(individual) for individual in population]\n",
    "\n",
    "        # select the fittest individuals to be parents\n",
    "        parents = [population[fitness_scores.index(max(fitness_scores))]]\n",
    "        parents += [population[random.choices(range(population_size), weights=fitness_scores)[0]] for j in range(population_size - 1)]\n",
    "\n",
    "        # generate offspring by crossover and mutation\n",
    "        offspring = []\n",
    "        for j in range(population_size):\n",
    "            parent1, parent2 = random.sample(parents, 2)\n",
    "            offspring.append(''.join([parent1[k] if random.random() < 0.5 else parent2[k] for k in range(len(parent1))]))\n",
    "            if random.random() < mutation_rate:\n",
    "                mutation_index = random.randint(0, 3)\n",
    "                offspring[-1] = offspring[-1][:mutation_index] + ('0' if offspring[-1][mutation_index] == '1' else '1') + offspring[-1][mutation_index+1:]\n",
    "\n",
    "        # replace the old population with the new offspring\n",
    "        population = offspring\n",
    "\n",
    "    # return the fittest individual in the final population\n",
    "    return max(population, key=fitness_fn)\n",
    "\n",
    "# run the genetic algorithm to find the highest binary number with 4 digits\n",
    "solution = genetic_algorithm(population_size=50, fitness_fn=fitness, generations=1000)\n",
    "print('The highest value of a binary system with 4 digits is:', solution, '=', int(solution, 2))\n"
   ]
  }
 ],
 "metadata": {
  "kernelspec": {
   "display_name": "ilumpy",
   "language": "python",
   "name": "ilumpy"
  },
  "language_info": {
   "codemirror_mode": {
    "name": "ipython",
    "version": 3
   },
   "file_extension": ".py",
   "mimetype": "text/x-python",
   "name": "python",
   "nbconvert_exporter": "python",
   "pygments_lexer": "ipython3",
   "version": "3.9.7"
  },
  "org": null
 },
 "nbformat": 4,
 "nbformat_minor": 4
}
