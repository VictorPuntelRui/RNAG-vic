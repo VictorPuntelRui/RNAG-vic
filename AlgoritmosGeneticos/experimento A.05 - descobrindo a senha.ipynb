{
 "cells": [
  {
   "cell_type": "markdown",
   "metadata": {},
   "source": [
    "Descobrindo a senha\n",
    "===================\n",
    "\n"
   ]
  },
  {
   "cell_type": "markdown",
   "metadata": {},
   "source": [
    "## Objetivo\n",
    "\n"
   ]
  },
  {
   "cell_type": "markdown",
   "metadata": {},
   "source": [
    "Usar um algoritmo genético para descobrir uma senha.\n",
    "\n"
   ]
  },
  {
   "cell_type": "markdown",
   "metadata": {},
   "source": [
    "## Descrição do problema\n",
    "\n"
   ]
  },
  {
   "cell_type": "markdown",
   "metadata": {},
   "source": [
    "Neste problema, a função objetivo deve saber a senha correta e quantificar de alguma maneira o quão perto ou longe os palpites estão da solução (veja que isso é algo que não temos no mundo real. Nenhum site irá te dizer se você está acertando ou errando seu palpite). O critério de parada deste problema é quando a senha for descoberta.\n",
    "\n"
   ]
  },
  {
   "cell_type": "markdown",
   "metadata": {},
   "source": [
    "## Importações\n",
    "\n"
   ]
  },
  {
   "cell_type": "code",
   "execution_count": 1,
   "metadata": {},
   "outputs": [],
   "source": [
    "from funcoes import populacao_inicial_senha\n",
    "from funcoes import funcao_objetivo_pop_senha\n",
    "from funcoes import selecao_torneio_min\n",
    "from funcoes import cruzamento_ponto_simples as funcao_cruzamento\n",
    "from funcoes import mutacao_senha\n",
    "import random"
   ]
  },
  {
   "cell_type": "markdown",
   "metadata": {},
   "source": [
    "## Códigos e discussão\n",
    "\n"
   ]
  },
  {
   "cell_type": "code",
   "execution_count": 6,
   "metadata": {},
   "outputs": [],
   "source": [
    "### CONSTANTES\n",
    "\n",
    "# relacionadas à busca  - - - - -\n",
    "\n",
    "TAMANHO_POP = 50\n",
    "#NUM_GERACOES = 2000\n",
    "CHANCE_CRUZAMENTO = 0.5\n",
    "CHANCE_MUTACAO = 0.05\n",
    "NUM_COMBATENTES_NO_TORNEIO = 3\n",
    "\n",
    "# relacionadas ao problema a ser resulvido - - - - -\n",
    "\n",
    "SENHA = \"correcthorsebatterystaple\"\n",
    "LETRAS_POSSIVEIS = \"abcdefghijklmnopqrstuvwxyz\"\n",
    "NUM_GENES = len(SENHA)"
   ]
  },
  {
   "cell_type": "code",
   "execution_count": 7,
   "metadata": {},
   "outputs": [],
   "source": [
    "# funções locais\n",
    "\n",
    "def cria_populacao_inicial(tamanho, tamanho_senha):\n",
    "    return populacao_inicial_senha(tamanho, tamanho_senha, LETRAS_POSSIVEIS)\n",
    "\n",
    "def funcao_objetivo_pop(populacao):\n",
    "    return funcao_objetivo_pop_senha(populacao, SENHA)\n",
    "\n",
    "def funcao_selecao(populacao, fitness):\n",
    "    return selecao_torneio_min(populacao, fitness, NUM_COMBATENTES_NO_TORNEIO)\n",
    "\n",
    "def funcao_mutacao(individuo):\n",
    "    return mutacao_senha(individuo, LETRAS_POSSIVEIS)"
   ]
  },
  {
   "cell_type": "code",
   "execution_count": 8,
   "metadata": {},
   "outputs": [
    {
     "name": "stdout",
     "output_type": "stream",
     "text": [
      "Progresso da melhor senha já vista:\n",
      "dvjoestkgujksqyjbzunzablh - fitness: 155\n",
      "cyaoplwjmppinqzuhtxovaxwf - fitness: 133\n",
      "dvjoestkgppieqzuhtxovacmk - fitness: 113\n",
      "dvjoestkgppieqzuhtxovablh - fitness: 110\n",
      "cvjoestkgppieqzuhtxovablh - fitness: 109\n",
      "dvjoestkgppieqjuhtxovaqlh - fitness: 101\n",
      "dvjoestkgppieqzuhtxovaqlh - fitness: 97\n",
      "cvjoestkgppieqzuhtxovaqlh - fitness: 96\n",
      "dvqoestkgppieqjuhtxovaqlh - fitness: 94\n",
      "dvqoestkgppieqzuhtxovaqlh - fitness: 90\n",
      "cvsoestkgppieqzuhtxovaqlh - fitness: 89\n",
      "dvsoestkgrpieqzuhtxovaqlh - fitness: 88\n",
      "dnsoestkgppieqzuhtxovaqlh - fitness: 84\n",
      "dpsoestkgrpieqzuhtxovaqlh - fitness: 82\n",
      "dnsoestkgrpieqzuhtxovaqlc - fitness: 81\n",
      "dpsoestkgppiekzuhtxxvaqlh - fitness: 79\n",
      "dnsrestkpppieqzuhtxovaqlc - fitness: 73\n",
      "dnsreotkpppieqzuhtxovaqlc - fitness: 69\n",
      "dnsrestkkppiehzuhtxovaqlc - fitness: 67\n",
      "dnsreotkprpdeqzuhtxovaqlh - fitness: 65\n",
      "dnsreotkprpiehzuhtxovaqlc - fitness: 58\n",
      "dnsreotkprpdehzuhtxovaqlc - fitness: 55\n",
      "dnsreotkprpdehxuhtxovaqlc - fitness: 53\n",
      "dnsreotkprpdehxuhsxovaqlc - fitness: 52\n",
      "dnsreotkprpdahxuhtxovaqlc - fitness: 51\n",
      "dnsreotkprpdahxuetxovaqlc - fitness: 48\n",
      "dnsrehtkprpdahxuetxovaqlc - fitness: 41\n",
      "dnsrehtkprpdahvuetxovaqlc - fitness: 39\n",
      "dnsrehtkprpdahvuetxovaqld - fitness: 38\n",
      "dnsrehtkprpdahvuetxtvaqld - fitness: 35\n",
      "dnsrectkprpdahvuetxtvaqld - fitness: 30\n",
      "dnsrectkprpdbhvuetxtvaqld - fitness: 29\n",
      "dnsrectkprpdbhvuetxtvapld - fitness: 28\n",
      "dnsrectkprpdbavuetxtvapld - fitness: 21\n",
      "dnsrectkprpdbatuetxtvapld - fitness: 19\n",
      "cnsrectkprpdbatuetxtvapld - fitness: 18\n",
      "cosrectkprpdbatuetxtvapld - fitness: 17\n",
      "cosrectkprudbatuetxtvapld - fitness: 16\n",
      "cosrectkprudbatuetxsvapld - fitness: 15\n",
      "cosrectkorudbatuetxsvapld - fitness: 14\n",
      "cosrectkortdbatuetxsvapld - fitness: 13\n",
      "cosrectkortdbattetxsvapld - fitness: 12\n",
      "cosrecthortdbattetxsvapld - fitness: 9\n",
      "cosrecthortebattetxsvapld - fitness: 8\n",
      "cosrecthortebattetxstapld - fitness: 6\n",
      "cosrecthortebatterxsuapld - fitness: 5\n",
      "correcthortebatterxsuapld - fitness: 4\n",
      "correcthortebatterxsuaple - fitness: 3\n",
      "correcthorsebatterxsuaple - fitness: 2\n",
      "correcthorsebatterysuaple - fitness: 1\n",
      "correcthorsebatterystaple - fitness: 0\n",
      "\n",
      "Melhor palpite da senha encontrado:\n",
      "correcthorsebatterystaple\n"
     ]
    }
   ],
   "source": [
    "populacao = cria_populacao_inicial(TAMANHO_POP, NUM_GENES)\n",
    "\n",
    "melhor_fitness_ja_visto = float(\"inf\")  # é assim que escrevemos infinito em python\n",
    "\n",
    "print(\"Progresso da melhor senha já vista:\")\n",
    "\n",
    "#for n in range(NUM_GERACOES):    \n",
    "while melhor_fitness_ja_visto != 0:\n",
    "    \n",
    "    # Seleção\n",
    "    fitness = funcao_objetivo_pop(populacao)\n",
    "    populacao = funcao_selecao(populacao, fitness)\n",
    "    \n",
    "    # Cruzamento\n",
    "    pais = populacao[0::2]\n",
    "    maes = populacao[1::2]\n",
    "    \n",
    "    contador = 0\n",
    "    \n",
    "    for pai, mae in zip(pais, maes):\n",
    "        if random.random() <= CHANCE_CRUZAMENTO:\n",
    "            filho1, filho2 = funcao_cruzamento(pai, mae)\n",
    "            populacao[contador] = filho1\n",
    "            populacao[contador + 1] = filho2\n",
    "        \n",
    "        contador = contador + 2   \n",
    "        \n",
    "    # Mutação\n",
    "    for n in range(len(populacao)):\n",
    "        if random.random() <= CHANCE_MUTACAO:\n",
    "            individuo = populacao[n]\n",
    "            populacao[n] = funcao_mutacao(individuo)            \n",
    "            \n",
    "    # melhor individuo já visto até agora\n",
    "    fitness = funcao_objetivo_pop(populacao)\n",
    "    menor_fitness = min(fitness)\n",
    "    if menor_fitness < melhor_fitness_ja_visto:        \n",
    "        posicao = fitness.index(menor_fitness)\n",
    "        melhor_individuo_ja_visto = populacao[posicao]\n",
    "        melhor_fitness_ja_visto = menor_fitness\n",
    "        print(\"\".join(melhor_individuo_ja_visto), \"- fitness:\", melhor_fitness_ja_visto)\n",
    "\n",
    "print()\n",
    "print(\"Melhor palpite da senha encontrado:\")\n",
    "print(\"\".join(melhor_individuo_ja_visto))"
   ]
  },
  {
   "cell_type": "markdown",
   "metadata": {},
   "source": [
    "## Conclusão\n",
    "\n"
   ]
  },
  {
   "cell_type": "markdown",
   "metadata": {},
   "source": [
    "nao muito útil em situações reais <dt>\n",
    "algoritmo funcionou"
   ]
  },
  {
   "cell_type": "markdown",
   "metadata": {},
   "source": [
    "## Playground\n",
    "\n"
   ]
  },
  {
   "cell_type": "markdown",
   "metadata": {},
   "source": [
    "### Anotações\n",
    "\n",
    "##### Na função de objetivo senha: <dt>\n",
    "O zip possibilita a comparação entre a lista de senha gerada com a senha que queremos\n",
    "CHUTE - - OBJETIVO\n",
    "    \n",
    "Exercício agora de minimização, ou seja, diminuição da distância entre os valores, e nao maximização dos valores\n",
    " "
   ]
  },
  {
   "cell_type": "markdown",
   "metadata": {},
   "source": [
    "##### Torneio\n",
    "\n",
    "Grupos de seleção entre si, maior passa geração para frente, os outros não, ainda.\n",
    "\n",
    "\n"
   ]
  }
 ],
 "metadata": {
  "kernelspec": {
   "display_name": "ilumpy",
   "language": "python",
   "name": "ilumpy"
  },
  "language_info": {
   "codemirror_mode": {
    "name": "ipython",
    "version": 3
   },
   "file_extension": ".py",
   "mimetype": "text/x-python",
   "name": "python",
   "nbconvert_exporter": "python",
   "pygments_lexer": "ipython3",
   "version": "3.9.7"
  },
  "org": null
 },
 "nbformat": 4,
 "nbformat_minor": 4
}
