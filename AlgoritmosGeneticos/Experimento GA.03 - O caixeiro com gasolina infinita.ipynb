{
 "cells": [
  {
   "cell_type": "markdown",
   "metadata": {},
   "source": [
    "Experimento GA.03 - O caixeiro com gasolina infinita\n",
    "========================================\n",
    "\n"
   ]
  },
  {
   "cell_type": "markdown",
   "metadata": {},
   "source": [
    "## Introdução\n",
    "\n"
   ]
  },
  {
   "cell_type": "markdown",
   "metadata": {},
   "source": [
    "No experimento A.06, vimos o problema do caixeiro viajante - um viajante precisa encontrar o menor caminho para transitar entre as cidades que precisa passar, sem que passe duas vezes na mesma.\n",
    "\n",
    "Neste notebook, vamos abordar o problema vizando encontrar justamente o CONTRÁRIO, o PIOR caminho possível para o nosso motorista.\n",
    "Como anteriormente no experimento A.06 usamos uma seleção por minimização(ja que o objetivo era o menor caminho), agora vamos usar uma seleção por maximização.\n",
    "\n",
    "\n"
   ]
  },
  {
   "cell_type": "markdown",
   "metadata": {},
   "source": [
    "## Objetivo\n",
    "\n"
   ]
  },
  {
   "cell_type": "markdown",
   "metadata": {},
   "source": [
    "Queremos encontrar o caminho mais longo possível para este percurso, maximizando a distância\n",
    "\n"
   ]
  },
  {
   "cell_type": "markdown",
   "metadata": {},
   "source": [
    "## Importações\n",
    "\n"
   ]
  },
  {
   "cell_type": "code",
   "execution_count": 1,
   "metadata": {},
   "outputs": [],
   "source": [
    "import random\n",
    "from itertools import permutations\n",
    "\n",
    "from funcoes import cria_cidades\n",
    "\n",
    "from funcoes_playground import populacao_inicial_cv as cria_populacao_inicial\n",
    "from funcoes_playground import funcao_objetivo_pop_cv\n",
    "from funcoes_playground import funcao_objetivo_cv\n",
    "from funcoes_playground import selecao_torneio_min  as funcao_selecao # esse já temos!\n",
    "from funcoes_playground import cruzamento_ordenado as funcao_cruzamento\n",
    "from funcoes_playground import mutacao_de_troca as funcao_mutacao\n",
    "\n",
    "import matplotlib.pyplot as plt\n",
    "import networkx as nx\n"
   ]
  },
  {
   "cell_type": "markdown",
   "metadata": {},
   "source": [
    "## Códigos e discussão\n",
    "\n"
   ]
  },
  {
   "cell_type": "code",
   "execution_count": 2,
   "metadata": {},
   "outputs": [
    {
     "data": {
      "text/plain": [
       "['Cidade 5', 'Cidade 0', 'Cidade 4', 'Cidade 2', 'Cidade 1', 'Cidade 3']"
      ]
     },
     "execution_count": 2,
     "metadata": {},
     "output_type": "execute_result"
    }
   ],
   "source": [
    "cidades = cria_cidades(6)\n",
    "cidades\n",
    "\n",
    "nomes = list(cidades.keys())\n",
    "nomes\n",
    "\n",
    "random.shuffle(nomes)\n",
    "nomes"
   ]
  },
  {
   "cell_type": "code",
   "execution_count": 3,
   "metadata": {},
   "outputs": [],
   "source": [
    "### CONSTANTES\n",
    "\n",
    "# relacionadas à busca\n",
    "TAMANHO_POP = 50\n",
    "NUM_GERACOES = 1000\n",
    "CHANCE_CRUZAMENTO = 0.5\n",
    "CHANCE_MUTACAO = 0.05\n",
    "NUM_COMBATENTES_NO_TORNEIO = 3\n",
    "\n",
    "# relacionadas ao problema a ser resolvido\n",
    "NUMERO_CIDADES=5\n",
    "CIDADES = cria_cidades(NUMERO_CIDADES)"
   ]
  },
  {
   "cell_type": "code",
   "execution_count": 4,
   "metadata": {},
   "outputs": [],
   "source": [
    "# Funções locais\n",
    "\n",
    "def funcao_objetivo_pop(populacao):\n",
    "    return funcao_objetivo_pop_cv(populacao, CIDADES)\n",
    "\n",
    "def funcao_objetivo_individuo(individuo):\n",
    "    return funcao_objetivo_cv(individuo, CIDADES)"
   ]
  },
  {
   "cell_type": "code",
   "execution_count": 5,
   "metadata": {},
   "outputs": [],
   "source": [
    "# Busca por algoritmo genético\n",
    "\n",
    "populacao = cria_populacao_inicial(TAMANHO_POP, CIDADES)\n",
    "\n",
    "melhor_fitness_ja_visto = 0  # é assim que escrevemos infinito em python\n",
    "\n",
    "for n in range(NUM_GERACOES):\n",
    "    \n",
    "    # Seleção\n",
    "    fitness = funcao_objetivo_pop(populacao)\n",
    "    populacao = funcao_selecao(populacao, fitness)\n",
    "    \n",
    "    # Cruzamento\n",
    "    pais = populacao[0::2]\n",
    "    maes = populacao[1::2]\n",
    "    \n",
    "    contador = 0\n",
    "    \n",
    "    for pai, mae in zip(pais, maes):\n",
    "        if random.random() <= CHANCE_CRUZAMENTO:\n",
    "            filho1, filho2 = funcao_cruzamento(pai, mae)\n",
    "            populacao[contador] = filho1\n",
    "            populacao[contador + 1] = filho2\n",
    "        \n",
    "        contador = contador + 2   \n",
    "        \n",
    "    # Mutação\n",
    "    for n in range(len(populacao)):\n",
    "        if random.random() <= CHANCE_MUTACAO:\n",
    "            individuo = populacao[n]\n",
    "            populacao[n] = funcao_mutacao(individuo)            \n",
    "            \n",
    "    # melhor individuo já visto até agora\n",
    "    fitness = funcao_objetivo_pop(populacao)\n",
    "    maior_fitness = max(fitness)\n",
    "    if maior_fitness > melhor_fitness_ja_visto:        \n",
    "        posicao = fitness.index(maior_fitness)\n",
    "        melhor_individuo_ja_visto = populacao[posicao]\n",
    "        melhor_fitness_ja_visto = maior_fitness    "
   ]
  },
  {
   "cell_type": "markdown",
   "metadata": {},
   "source": [
    "Pode-se perceber que o código é quase idêntico ao problema de minimização, apenas alteramos os fatores de seleção dos nossos indíviduos, prezandoo pelos maiores valores possíveis."
   ]
  },
  {
   "cell_type": "code",
   "execution_count": 6,
   "metadata": {},
   "outputs": [],
   "source": [
    "# Busca testando todas as permutações\n",
    "\n",
    "melhor_fitness_ever = 0\n",
    "\n",
    "# testando todas as permutações possíveis\n",
    "for caminho in permutations(list(CIDADES.keys())):\n",
    "    distancia = funcao_objetivo_individuo(caminho)\n",
    "    if distancia > melhor_fitness_ever:\n",
    "        melhor_fitness_ever = distancia\n",
    "        melhor_resposta_ever = caminho"
   ]
  },
  {
   "cell_type": "code",
   "execution_count": 7,
   "metadata": {},
   "outputs": [
    {
     "name": "stdout",
     "output_type": "stream",
     "text": [
      "\n",
      "Melhor individuo obtido por algoritmos genéticos:\n",
      "['Cidade 3', 'Cidade 1', 'Cidade 2', 'Cidade 0', 'Cidade 4'] com distância: 2.643218428487448\n",
      "\n",
      "Melhor individuo obtido por busca exaustiva:\n",
      "('Cidade 3', 'Cidade 1', 'Cidade 2', 'Cidade 0', 'Cidade 4') com distância: 2.643218428487448\n"
     ]
    }
   ],
   "source": [
    "# Checando os resultados\n",
    "\n",
    "print()\n",
    "print(\"Melhor individuo obtido por algoritmos genéticos:\")\n",
    "print(melhor_individuo_ja_visto, \"com distância:\", melhor_fitness_ja_visto)\n",
    "\n",
    "print()\n",
    "print(\"Melhor individuo obtido por busca exaustiva:\")\n",
    "print(melhor_resposta_ever, \"com distância:\", melhor_fitness_ever)"
   ]
  },
  {
   "cell_type": "code",
   "execution_count": 8,
   "metadata": {},
   "outputs": [
    {
     "data": {
      "image/png": "[encoded data removed]",
      "text/plain": [
       "<Figure size 432x288 with 1 Axes>"
      ]
     },
     "metadata": {},
     "output_type": "display_data"
    }
   ],
   "source": [
    "# Representação gráfica:\n",
    "g = nx.Graph()\n",
    "for i in list(CIDADES.keys()):\n",
    "    g.add_node(i)\n",
    "k = -1\n",
    "while k < len(melhor_individuo_ja_visto)-1:\n",
    "    g.add_edge(melhor_individuo_ja_visto[k], melhor_individuo_ja_visto[k+1])\n",
    "    k+=1\n",
    "vertices = CIDADES.keys()\n",
    "pos = nx.spring_layout(g,pos=CIDADES, fixed = vertices)\n",
    "nx.draw_networkx(g,pos,node_color = 'y')"
   ]
  },
  {
   "cell_type": "markdown",
   "metadata": {},
   "source": [
    "Vamos ver agora como que o valor de cada indivíduo vai aumentando conforme o tempo e os selecionados vão adquirindo valores cada vez maiores"
   ]
  },
  {
   "cell_type": "code",
   "execution_count": 20,
   "metadata": {},
   "outputs": [
    {
     "name": "stdout",
     "output_type": "stream",
     "text": [
      "[1.719961239291129, 1.719961239291129, 1.719961239291129, 1.719961239291129, 1.719961239291129, 1.719961239291129, 1.719961239291129, 1.719961239291129, 1.719961239291129, 1.719961239291129, 1.719961239291129, 1.719961239291129, 1.719961239291129, 1.719961239291129, 1.719961239291129, 1.719961239291129, 1.719961239291129, 1.719961239291129, 1.719961239291129, 1.719961239291129, 1.719961239291129, 1.719961239291129, 1.719961239291129, 1.719961239291129, 1.719961239291129, 1.719961239291129, 1.719961239291129, 1.719961239291129, 1.719961239291129, 1.719961239291129, 1.719961239291129, 1.719961239291129, 1.8754126086985365, 1.948558189372864, 1.9485581893728643, 1.9485581893728643, 1.9485581893728643, 1.9485581893728643, 1.9485581893728643, 2.0350011392354235, 2.0350011392354235, 2.036442280871012, 2.036442280871012, 2.1025684171446835, 2.1025684171446835, 2.1025684171446835, 2.260611250633893, 2.3281785285431527, 2.4146214784057123, 2.4146214784057123]\n"
     ]
    }
   ],
   "source": [
    "print(fitness)"
   ]
  },
  {
   "cell_type": "code",
   "execution_count": 21,
   "metadata": {},
   "outputs": [
    {
     "name": "stdout",
     "output_type": "stream",
     "text": [
      "[1.719961239291129, 1.719961239291129, 1.719961239291129, 1.719961239291129, 1.719961239291129, 1.719961239291129, 1.719961239291129, 1.719961239291129, 1.719961239291129, 1.719961239291129, 1.719961239291129, 1.719961239291129, 1.719961239291129, 1.719961239291129, 1.719961239291129, 1.719961239291129, 1.719961239291129, 1.719961239291129, 1.719961239291129, 1.719961239291129, 1.719961239291129, 1.719961239291129, 1.719961239291129, 1.719961239291129, 1.719961239291129, 1.719961239291129, 1.719961239291129, 1.719961239291129, 1.719961239291129, 1.719961239291129, 1.719961239291129, 1.719961239291129, 1.8754126086985365, 1.948558189372864, 1.9485581893728643, 1.9485581893728643, 1.9485581893728643, 1.9485581893728643, 1.9485581893728643, 2.0350011392354235, 2.0350011392354235, 2.036442280871012, 2.036442280871012, 2.1025684171446835, 2.1025684171446835, 2.1025684171446835, 2.260611250633893, 2.3281785285431527, 2.4146214784057123, 2.4146214784057123]\n"
     ]
    }
   ],
   "source": [
    "lista = fitness.copy()\n",
    "\n",
    "lista.sort()\n",
    "\n",
    "print(lista)"
   ]
  },
  {
   "cell_type": "markdown",
   "metadata": {},
   "source": [
    "## Conclusão\n",
    "\n"
   ]
  },
  {
   "cell_type": "markdown",
   "metadata": {},
   "source": [
    "Como podemos perceber, o código é quase idêntico ao da aula de A.06 do caixeiro viajante, entretando como um problema de maximização.\n",
    "Vemos que conforme o algoritmo vai correndo, os valores para o nosso fitness vai aumentando, portanto é possível concluir que o código está funcionando de forma correta pois, temos os faotres de cruzamento e mutação auxliando, juntamente ao de seleção, a passar os maiores valores geração após geração.\n",
    "\n"
   ]
  },
  {
   "cell_type": "markdown",
   "metadata": {},
   "source": [
    "## Referências consultadas\n",
    "\n"
   ]
  },
  {
   "cell_type": "markdown",
   "metadata": {},
   "source": [
    "1. Github do professor Daniel (https://github.com/drcassar/aula_redes/tree/main)"
   ]
  },
  {
   "cell_type": "markdown",
   "metadata": {},
   "source": [
    "## Playground\n",
    "\n"
   ]
  },
  {
   "cell_type": "markdown",
   "metadata": {},
   "source": [
    "Todo código de teste que não faz parte do seu experimento deve vir aqui. Este código não será considerado na avaliação.\n",
    "\n"
   ]
  },
  {
   "cell_type": "code",
   "execution_count": null,
   "metadata": {},
   "outputs": [],
   "source": []
  }
 ],
 "metadata": {
  "kernelspec": {
   "display_name": "ilumpy",
   "language": "python",
   "name": "ilumpy"
  },
  "language_info": {
   "codemirror_mode": {
    "name": "ipython",
    "version": 3
   },
   "file_extension": ".py",
   "mimetype": "text/x-python",
   "name": "python",
   "nbconvert_exporter": "python",
   "pygments_lexer": "ipython3",
   "version": "3.9.7"
  },
  "org": null
 },
 "nbformat": 4,
 "nbformat_minor": 4
}
