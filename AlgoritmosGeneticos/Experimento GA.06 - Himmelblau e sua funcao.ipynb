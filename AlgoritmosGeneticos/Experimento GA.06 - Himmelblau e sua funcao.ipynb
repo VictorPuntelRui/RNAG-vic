{
 "cells": [
  {
   "cell_type": "markdown",
   "metadata": {},
   "source": [
    "Experimento GA.06 - Himmelblau e sua função\n",
    "==========================================="
   ]
  },
  {
   "cell_type": "markdown",
   "metadata": {},
   "source": [
    "## Introdução\n",
    "\n"
   ]
  },
  {
   "cell_type": "markdown",
   "metadata": {},
   "source": [
    "A função de Himmeblau é uma função que apresenta 4 mínimos globais. <dt>\n",
    "    Esta função, que se dá por :\n",
    "$$\n",
    "f(x,y) = (x^2 +y -11)^2 + (x + y^2 - 7)^2\n",
    "$$\n",
    "<dt> Comumente a usamos como uma forma de testar o desempenho/performance de seus algorítmos\n"
   ]
  },
  {
   "cell_type": "markdown",
   "metadata": {},
   "source": [
    "## Objetivo\n",
    "\n"
   ]
  },
  {
   "cell_type": "markdown",
   "metadata": {},
   "source": [
    "Delete este texto e escreva seu objetivo.\n",
    "\n",
    "Neste experimento, o nosso objetivo é encontrar através do algoritmo genético, as coordenadas do mínimo global da função de Himmelblau\n",
    "\n",
    "Para verificar se o nosso algoritmo genético está funcionando e uma forma favorável "
   ]
  },
  {
   "cell_type": "markdown",
   "metadata": {},
   "source": [
    "## Importações\n",
    "\n"
   ]
  },
  {
   "cell_type": "markdown",
   "metadata": {},
   "source": [
    "Todos os comandos de `import` devem estar dentro desta seção.\n",
    "\n"
   ]
  },
  {
   "cell_type": "code",
   "execution_count": 1,
   "metadata": {},
   "outputs": [],
   "source": [
    "import random\n",
    "\n",
    "from funcoes_playground import genes_hbl\n",
    "from funcoes_playground import individuo_hbl as individuo\n",
    "from funcoes_playground import populacao_chutes_hbl\n",
    "from funcoes_playground import fitness_hbl\n",
    "from funcoes_playground import selecao_torneio_min\n",
    "from funcoes_playground import cruzamento_ponto_simples as funcao_cruzamento\n",
    "from funcoes_playground import mutacao_cordenada"
   ]
  },
  {
   "cell_type": "code",
   "execution_count": 2,
   "metadata": {},
   "outputs": [],
   "source": [
    "##### CONSTANTES #####\n",
    "\n",
    "VALOR_MAX_HBL = 2000\n",
    "N_GENES = 2\n",
    "TAMANHO_POP = 100\n",
    "CHANCE_MUTACAO = 0.05\n",
    "CHANCE_CRUZAMENTO = 0.5\n",
    "\n",
    "def equacao (x, y):\n",
    "    return (x**2 + y - 11)**2 + (x + y**2 - 7)**2"
   ]
  },
  {
   "cell_type": "code",
   "execution_count": 3,
   "metadata": {},
   "outputs": [],
   "source": [
    "# funções locais\n",
    "\n",
    "def cria_populacao_inicial(tamanho, tamanho_senha):\n",
    "    return populacao_chutes_hbl(TAMANHO_POP, N_GENES, VALOR_MAX_HBL)\n",
    "\n",
    "def funcao_objetivo_pop(populacao):\n",
    "    return fitness_hbl(populacao, equacao)\n",
    "\n",
    "def funcao_selecao(populacao, fitness):\n",
    "    return selecao_torneio_min(populacao, fitness)\n",
    "\n",
    "def funcao_mutacao(individuo):\n",
    "    return mutacao_cordenada(individuo, VALOR_MAX_HBL)"
   ]
  },
  {
   "cell_type": "markdown",
   "metadata": {},
   "source": [
    "## Códigos e discussão\n",
    "\n"
   ]
  },
  {
   "cell_type": "code",
   "execution_count": 4,
   "metadata": {},
   "outputs": [
    {
     "name": "stdout",
     "output_type": "stream",
     "text": [
      "Progresso da melhor senha já vista:\n",
      "[94, 142] - fitness: 490510090\n",
      "[94, 17] - fitness: 78322340\n",
      "[86, 17] - fitness: 54925028\n",
      "[12, 17] - fitness: 108936\n",
      "[12, 0] - fitness: 17714\n",
      "[9, 0] - fitness: 4904\n",
      "[6, 0] - fitness: 626\n",
      "[0, 0] - fitness: 170\n",
      "[1, 0] - fitness: 136\n",
      "[1, 3] - fitness: 58\n",
      "[3, 3] - fitness: 26\n",
      "[3, 2] - fitness: 0\n",
      "\n",
      "Melhor palpite para coordenadas encontrado:\n",
      "[3, 2]\n"
     ]
    }
   ],
   "source": [
    "populacao = cria_populacao_inicial(TAMANHO_POP, N_GENES)\n",
    "melhor_fitness_ja_visto = float(\"inf\")  # é assim que escrevemos infinito em python\n",
    "\n",
    "print(\"Progresso da melhor senha já vista:\")\n",
    "\n",
    "#for n in range(NUM_GERACOES):    \n",
    "while melhor_fitness_ja_visto != 0:\n",
    "    \n",
    "    # Seleção\n",
    "    fitness = funcao_objetivo_pop(populacao)\n",
    "    #print(fitness)\n",
    "    populacao = funcao_selecao(populacao, fitness)\n",
    "    \n",
    "    #print(populacao)    \n",
    "    # Cruzamento\n",
    "    pais = populacao[0::2]\n",
    "    maes = populacao[1::2]\n",
    "    \n",
    "    contador = 0\n",
    "    \n",
    "    for pai, mae in zip(pais, maes):\n",
    "        if random.random() <= CHANCE_CRUZAMENTO:\n",
    "            filho1, filho2 = funcao_cruzamento(pai, mae)\n",
    "            populacao[contador] = filho1\n",
    "            populacao[contador + 1] = filho2\n",
    "        \n",
    "        contador = contador + 2   \n",
    "        \n",
    "    # Mutação\n",
    "    for n in range(len(populacao)):\n",
    "        if random.random() <= CHANCE_MUTACAO:\n",
    "            individuo = populacao[n]\n",
    "            populacao[n] = funcao_mutacao(individuo)            \n",
    "            \n",
    "    # melhor individuo já visto até agora\n",
    "    fitness = funcao_objetivo_pop(populacao)\n",
    "    menor_fitness = min(fitness)\n",
    "    if menor_fitness < melhor_fitness_ja_visto:        \n",
    "        posicao = fitness.index(menor_fitness)\n",
    "        melhor_individuo_ja_visto = populacao[posicao]\n",
    "        melhor_fitness_ja_visto = menor_fitness\n",
    "        print((melhor_individuo_ja_visto), \"- fitness:\", melhor_fitness_ja_visto)\n",
    "\n",
    "print()\n",
    "print(\"Melhor palpite para coordenadas encontrado:\")\n",
    "print((melhor_individuo_ja_visto))"
   ]
  },
  {
   "cell_type": "markdown",
   "metadata": {},
   "source": [
    "-   Use células de código para o código.\n",
    "\n",
    "-   Use células de texto para a discussão.\n",
    "\n",
    "-   A discussão não deve ser feita em comentários dentro das células de código. Toda discussão deve acontecer após o resultado sendo discutido foi apresentado. Exemplo: não discuta um gráfico antes de apresentá-lo.\n",
    "\n"
   ]
  },
  {
   "cell_type": "code",
   "execution_count": null,
   "metadata": {},
   "outputs": [],
   "source": []
  },
  {
   "cell_type": "markdown",
   "metadata": {},
   "source": [
    "## Conclusão\n",
    "\n"
   ]
  },
  {
   "cell_type": "markdown",
   "metadata": {},
   "source": [
    "Depois de realizar este experimento, consegui compreender um pouco mais sobre a ampla versatilidade de aplicação dos algoritmos genéticos.\n",
    "Com a aplicação das etapas\n"
   ]
  },
  {
   "cell_type": "markdown",
   "metadata": {},
   "source": [
    "## Referências consultadas\n",
    "\n"
   ]
  },
  {
   "cell_type": "markdown",
   "metadata": {},
   "source": [
    "1.  Delete este texto e inclua suas referências ordenadas numericamente. Se for referenciar no notebook, use o número entre colchetes (exemplo: para citar essa referência aqui escreva &ldquo;[1]&rdquo; sem as áspas).\n",
    "\n",
    "2.  Cada item deve ser numerado. Siga o padrão apresentado.\n",
    "\n",
    "3.  Caso não tenha nenhuma referência consultada, delete esta seção e o texto contido nela!\n",
    "\n"
   ]
  },
  {
   "cell_type": "markdown",
   "metadata": {},
   "source": [
    "## Playground\n",
    "\n"
   ]
  },
  {
   "cell_type": "markdown",
   "metadata": {},
   "source": [
    "Todo código de teste que não faz parte do seu experimento deve vir aqui. Este código não será considerado na avaliação.\n",
    "\n"
   ]
  },
  {
   "cell_type": "code",
   "execution_count": null,
   "metadata": {},
   "outputs": [],
   "source": []
  }
 ],
 "metadata": {
  "kernelspec": {
   "display_name": "ilumpy",
   "language": "python",
   "name": "ilumpy"
  },
  "language_info": {
   "codemirror_mode": {
    "name": "ipython",
    "version": 3
   },
   "file_extension": ".py",
   "mimetype": "text/x-python",
   "name": "python",
   "nbconvert_exporter": "python",
   "pygments_lexer": "ipython3",
   "version": "3.9.7"
  },
  "org": null
 },
 "nbformat": 4,
 "nbformat_minor": 4
}
